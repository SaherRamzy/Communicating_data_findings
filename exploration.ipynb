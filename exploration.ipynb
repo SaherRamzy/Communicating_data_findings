{
 "cells": [
  {
   "cell_type": "markdown",
   "metadata": {},
   "source": [
    "# CITI Bike Share Data Systems\n",
    "## by Saher Ramzy\n",
    "\n",
    "## Preliminary Wrangling\n",
    "\n",
    "> Where do Citi Bikers ride? When do they ride? How far do they go? Which stations are most popular? What days of the week are most rides taken on? We've heard all of these questions and more from you, and we're happy to provide the data to help you discover the answers to these questions and more. We invite developers, engineers, statisticians, artists, academics and other interested members of the public to use the data we provide for analysis, development, visualization and whatever else moves you"
   ]
  },
  {
   "cell_type": "code",
   "execution_count": 2,
   "metadata": {},
   "outputs": [],
   "source": [
    "# import all packages and set plots to be embedded inline\n",
    "import numpy as np\n",
    "import pandas as pd\n",
    "import matplotlib.pyplot as plt\n",
    "import seaborn as sb\n",
    "\n",
    "%matplotlib inline"
   ]
  },
  {
   "cell_type": "markdown",
   "metadata": {},
   "source": [
    "> Load in your dataset and describe its properties through the questions below.\n",
    "Try and motivate your exploration goals through this section."
   ]
  },
  {
   "cell_type": "code",
   "execution_count": 3,
   "metadata": {},
   "outputs": [
    {
     "data": {
      "text/html": [
       "<div>\n",
       "<style scoped>\n",
       "    .dataframe tbody tr th:only-of-type {\n",
       "        vertical-align: middle;\n",
       "    }\n",
       "\n",
       "    .dataframe tbody tr th {\n",
       "        vertical-align: top;\n",
       "    }\n",
       "\n",
       "    .dataframe thead th {\n",
       "        text-align: right;\n",
       "    }\n",
       "</style>\n",
       "<table border=\"1\" class=\"dataframe\">\n",
       "  <thead>\n",
       "    <tr style=\"text-align: right;\">\n",
       "      <th></th>\n",
       "      <th>tripduration</th>\n",
       "      <th>starttime</th>\n",
       "      <th>stoptime</th>\n",
       "      <th>start station id</th>\n",
       "      <th>start station name</th>\n",
       "      <th>start station latitude</th>\n",
       "      <th>start station longitude</th>\n",
       "      <th>end station id</th>\n",
       "      <th>end station name</th>\n",
       "      <th>end station latitude</th>\n",
       "      <th>end station longitude</th>\n",
       "      <th>bikeid</th>\n",
       "      <th>usertype</th>\n",
       "      <th>birth year</th>\n",
       "      <th>gender</th>\n",
       "    </tr>\n",
       "  </thead>\n",
       "  <tbody>\n",
       "    <tr>\n",
       "      <th>0</th>\n",
       "      <td>789</td>\n",
       "      <td>2020-01-01 00:00:55.3900</td>\n",
       "      <td>2020-01-01 00:14:05.1470</td>\n",
       "      <td>504</td>\n",
       "      <td>1 Ave &amp; E 16 St</td>\n",
       "      <td>40.732219</td>\n",
       "      <td>-73.981656</td>\n",
       "      <td>307</td>\n",
       "      <td>Canal St &amp; Rutgers St</td>\n",
       "      <td>40.714275</td>\n",
       "      <td>-73.989900</td>\n",
       "      <td>30326</td>\n",
       "      <td>Subscriber</td>\n",
       "      <td>1992</td>\n",
       "      <td>1</td>\n",
       "    </tr>\n",
       "    <tr>\n",
       "      <th>1</th>\n",
       "      <td>1541</td>\n",
       "      <td>2020-01-01 00:01:08.1020</td>\n",
       "      <td>2020-01-01 00:26:49.1780</td>\n",
       "      <td>3423</td>\n",
       "      <td>West Drive &amp; Prospect Park West</td>\n",
       "      <td>40.661063</td>\n",
       "      <td>-73.979453</td>\n",
       "      <td>3300</td>\n",
       "      <td>Prospect Park West &amp; 8 St</td>\n",
       "      <td>40.665147</td>\n",
       "      <td>-73.976376</td>\n",
       "      <td>17105</td>\n",
       "      <td>Customer</td>\n",
       "      <td>1969</td>\n",
       "      <td>1</td>\n",
       "    </tr>\n",
       "    <tr>\n",
       "      <th>2</th>\n",
       "      <td>1464</td>\n",
       "      <td>2020-01-01 00:01:42.1400</td>\n",
       "      <td>2020-01-01 00:26:07.0110</td>\n",
       "      <td>3687</td>\n",
       "      <td>E 33 St &amp; 1 Ave</td>\n",
       "      <td>40.743227</td>\n",
       "      <td>-73.974498</td>\n",
       "      <td>259</td>\n",
       "      <td>South St &amp; Whitehall St</td>\n",
       "      <td>40.701221</td>\n",
       "      <td>-74.012342</td>\n",
       "      <td>40177</td>\n",
       "      <td>Subscriber</td>\n",
       "      <td>1963</td>\n",
       "      <td>1</td>\n",
       "    </tr>\n",
       "    <tr>\n",
       "      <th>3</th>\n",
       "      <td>592</td>\n",
       "      <td>2020-01-01 00:01:45.5610</td>\n",
       "      <td>2020-01-01 00:11:38.1550</td>\n",
       "      <td>346</td>\n",
       "      <td>Bank St &amp; Hudson St</td>\n",
       "      <td>40.736529</td>\n",
       "      <td>-74.006180</td>\n",
       "      <td>490</td>\n",
       "      <td>8 Ave &amp; W 33 St</td>\n",
       "      <td>40.751551</td>\n",
       "      <td>-73.993934</td>\n",
       "      <td>27690</td>\n",
       "      <td>Subscriber</td>\n",
       "      <td>1980</td>\n",
       "      <td>1</td>\n",
       "    </tr>\n",
       "    <tr>\n",
       "      <th>4</th>\n",
       "      <td>702</td>\n",
       "      <td>2020-01-01 00:01:45.7880</td>\n",
       "      <td>2020-01-01 00:13:28.2400</td>\n",
       "      <td>372</td>\n",
       "      <td>Franklin Ave &amp; Myrtle Ave</td>\n",
       "      <td>40.694546</td>\n",
       "      <td>-73.958014</td>\n",
       "      <td>3637</td>\n",
       "      <td>Fulton St &amp; Waverly Ave</td>\n",
       "      <td>40.683239</td>\n",
       "      <td>-73.965996</td>\n",
       "      <td>32583</td>\n",
       "      <td>Subscriber</td>\n",
       "      <td>1982</td>\n",
       "      <td>1</td>\n",
       "    </tr>\n",
       "  </tbody>\n",
       "</table>\n",
       "</div>"
      ],
      "text/plain": [
       "   tripduration                 starttime                  stoptime  \\\n",
       "0           789  2020-01-01 00:00:55.3900  2020-01-01 00:14:05.1470   \n",
       "1          1541  2020-01-01 00:01:08.1020  2020-01-01 00:26:49.1780   \n",
       "2          1464  2020-01-01 00:01:42.1400  2020-01-01 00:26:07.0110   \n",
       "3           592  2020-01-01 00:01:45.5610  2020-01-01 00:11:38.1550   \n",
       "4           702  2020-01-01 00:01:45.7880  2020-01-01 00:13:28.2400   \n",
       "\n",
       "   start station id               start station name  start station latitude  \\\n",
       "0               504                  1 Ave & E 16 St               40.732219   \n",
       "1              3423  West Drive & Prospect Park West               40.661063   \n",
       "2              3687                  E 33 St & 1 Ave               40.743227   \n",
       "3               346              Bank St & Hudson St               40.736529   \n",
       "4               372        Franklin Ave & Myrtle Ave               40.694546   \n",
       "\n",
       "   start station longitude  end station id           end station name  \\\n",
       "0               -73.981656             307      Canal St & Rutgers St   \n",
       "1               -73.979453            3300  Prospect Park West & 8 St   \n",
       "2               -73.974498             259    South St & Whitehall St   \n",
       "3               -74.006180             490            8 Ave & W 33 St   \n",
       "4               -73.958014            3637    Fulton St & Waverly Ave   \n",
       "\n",
       "   end station latitude  end station longitude  bikeid    usertype  \\\n",
       "0             40.714275             -73.989900   30326  Subscriber   \n",
       "1             40.665147             -73.976376   17105    Customer   \n",
       "2             40.701221             -74.012342   40177  Subscriber   \n",
       "3             40.751551             -73.993934   27690  Subscriber   \n",
       "4             40.683239             -73.965996   32583  Subscriber   \n",
       "\n",
       "   birth year  gender  \n",
       "0        1992       1  \n",
       "1        1969       1  \n",
       "2        1963       1  \n",
       "3        1980       1  \n",
       "4        1982       1  "
      ]
     },
     "execution_count": 3,
     "metadata": {},
     "output_type": "execute_result"
    }
   ],
   "source": [
    "df = pd.read_csv('202001-citibike-tripdata.csv')\n",
    "df.head()\n"
   ]
  },
  {
   "cell_type": "code",
   "execution_count": 5,
   "metadata": {},
   "outputs": [
    {
     "name": "stdout",
     "output_type": "stream",
     "text": [
      "<class 'pandas.core.frame.DataFrame'>\n",
      "RangeIndex: 1240596 entries, 0 to 1240595\n",
      "Data columns (total 15 columns):\n",
      " #   Column                   Non-Null Count    Dtype  \n",
      "---  ------                   --------------    -----  \n",
      " 0   tripduration             1240596 non-null  int64  \n",
      " 1   starttime                1240596 non-null  object \n",
      " 2   stoptime                 1240596 non-null  object \n",
      " 3   start station id         1240596 non-null  int64  \n",
      " 4   start station name       1240596 non-null  object \n",
      " 5   start station latitude   1240596 non-null  float64\n",
      " 6   start station longitude  1240596 non-null  float64\n",
      " 7   end station id           1240596 non-null  int64  \n",
      " 8   end station name         1240596 non-null  object \n",
      " 9   end station latitude     1240596 non-null  float64\n",
      " 10  end station longitude    1240596 non-null  float64\n",
      " 11  bikeid                   1240596 non-null  int64  \n",
      " 12  usertype                 1240596 non-null  object \n",
      " 13  birth year               1240596 non-null  int64  \n",
      " 14  gender                   1240596 non-null  int64  \n",
      "dtypes: float64(4), int64(6), object(5)\n",
      "memory usage: 142.0+ MB\n"
     ]
    }
   ],
   "source": [
    "df.info()"
   ]
  },
  {
   "cell_type": "code",
   "execution_count": 6,
   "metadata": {},
   "outputs": [
    {
     "data": {
      "text/html": [
       "<div>\n",
       "<style scoped>\n",
       "    .dataframe tbody tr th:only-of-type {\n",
       "        vertical-align: middle;\n",
       "    }\n",
       "\n",
       "    .dataframe tbody tr th {\n",
       "        vertical-align: top;\n",
       "    }\n",
       "\n",
       "    .dataframe thead th {\n",
       "        text-align: right;\n",
       "    }\n",
       "</style>\n",
       "<table border=\"1\" class=\"dataframe\">\n",
       "  <thead>\n",
       "    <tr style=\"text-align: right;\">\n",
       "      <th></th>\n",
       "      <th>tripduration</th>\n",
       "      <th>start station id</th>\n",
       "      <th>start station latitude</th>\n",
       "      <th>start station longitude</th>\n",
       "      <th>end station id</th>\n",
       "      <th>end station latitude</th>\n",
       "      <th>end station longitude</th>\n",
       "      <th>bikeid</th>\n",
       "      <th>birth year</th>\n",
       "      <th>gender</th>\n",
       "    </tr>\n",
       "  </thead>\n",
       "  <tbody>\n",
       "    <tr>\n",
       "      <th>count</th>\n",
       "      <td>1.240596e+06</td>\n",
       "      <td>1.240596e+06</td>\n",
       "      <td>1.240596e+06</td>\n",
       "      <td>1.240596e+06</td>\n",
       "      <td>1.240596e+06</td>\n",
       "      <td>1.240596e+06</td>\n",
       "      <td>1.240596e+06</td>\n",
       "      <td>1.240596e+06</td>\n",
       "      <td>1.240596e+06</td>\n",
       "      <td>1.240596e+06</td>\n",
       "    </tr>\n",
       "    <tr>\n",
       "      <th>mean</th>\n",
       "      <td>7.846299e+02</td>\n",
       "      <td>1.676428e+03</td>\n",
       "      <td>4.073759e+01</td>\n",
       "      <td>-7.398175e+01</td>\n",
       "      <td>1.666457e+03</td>\n",
       "      <td>4.073724e+01</td>\n",
       "      <td>-7.398205e+01</td>\n",
       "      <td>3.267581e+04</td>\n",
       "      <td>1.979777e+03</td>\n",
       "      <td>1.179057e+00</td>\n",
       "    </tr>\n",
       "    <tr>\n",
       "      <th>std</th>\n",
       "      <td>6.076151e+03</td>\n",
       "      <td>1.495895e+03</td>\n",
       "      <td>2.970666e-02</td>\n",
       "      <td>1.931888e-02</td>\n",
       "      <td>1.495605e+03</td>\n",
       "      <td>2.946039e-02</td>\n",
       "      <td>1.940547e-02</td>\n",
       "      <td>8.057179e+03</td>\n",
       "      <td>1.242231e+01</td>\n",
       "      <td>4.887083e-01</td>\n",
       "    </tr>\n",
       "    <tr>\n",
       "      <th>min</th>\n",
       "      <td>6.100000e+01</td>\n",
       "      <td>7.200000e+01</td>\n",
       "      <td>4.065540e+01</td>\n",
       "      <td>-7.401713e+01</td>\n",
       "      <td>7.200000e+01</td>\n",
       "      <td>4.065540e+01</td>\n",
       "      <td>-7.403548e+01</td>\n",
       "      <td>1.453000e+04</td>\n",
       "      <td>1.885000e+03</td>\n",
       "      <td>0.000000e+00</td>\n",
       "    </tr>\n",
       "    <tr>\n",
       "      <th>25%</th>\n",
       "      <td>3.230000e+02</td>\n",
       "      <td>3.850000e+02</td>\n",
       "      <td>4.071882e+01</td>\n",
       "      <td>-7.399456e+01</td>\n",
       "      <td>3.830000e+02</td>\n",
       "      <td>4.071882e+01</td>\n",
       "      <td>-7.399468e+01</td>\n",
       "      <td>2.854700e+04</td>\n",
       "      <td>1.970000e+03</td>\n",
       "      <td>1.000000e+00</td>\n",
       "    </tr>\n",
       "    <tr>\n",
       "      <th>50%</th>\n",
       "      <td>5.290000e+02</td>\n",
       "      <td>5.130000e+02</td>\n",
       "      <td>4.073913e+01</td>\n",
       "      <td>-7.398484e+01</td>\n",
       "      <td>5.090000e+02</td>\n",
       "      <td>4.073827e+01</td>\n",
       "      <td>-7.398565e+01</td>\n",
       "      <td>3.390200e+04</td>\n",
       "      <td>1.982000e+03</td>\n",
       "      <td>1.000000e+00</td>\n",
       "    </tr>\n",
       "    <tr>\n",
       "      <th>75%</th>\n",
       "      <td>8.940000e+02</td>\n",
       "      <td>3.317000e+03</td>\n",
       "      <td>4.075680e+01</td>\n",
       "      <td>-7.397210e+01</td>\n",
       "      <td>3.317000e+03</td>\n",
       "      <td>4.075641e+01</td>\n",
       "      <td>-7.397283e+01</td>\n",
       "      <td>3.974800e+04</td>\n",
       "      <td>1.990000e+03</td>\n",
       "      <td>1.000000e+00</td>\n",
       "    </tr>\n",
       "    <tr>\n",
       "      <th>max</th>\n",
       "      <td>1.952746e+06</td>\n",
       "      <td>3.918000e+03</td>\n",
       "      <td>4.081830e+01</td>\n",
       "      <td>-7.389795e+01</td>\n",
       "      <td>3.918000e+03</td>\n",
       "      <td>4.081830e+01</td>\n",
       "      <td>-7.389795e+01</td>\n",
       "      <td>4.209100e+04</td>\n",
       "      <td>2.004000e+03</td>\n",
       "      <td>2.000000e+00</td>\n",
       "    </tr>\n",
       "  </tbody>\n",
       "</table>\n",
       "</div>"
      ],
      "text/plain": [
       "       tripduration  start station id  start station latitude  \\\n",
       "count  1.240596e+06      1.240596e+06            1.240596e+06   \n",
       "mean   7.846299e+02      1.676428e+03            4.073759e+01   \n",
       "std    6.076151e+03      1.495895e+03            2.970666e-02   \n",
       "min    6.100000e+01      7.200000e+01            4.065540e+01   \n",
       "25%    3.230000e+02      3.850000e+02            4.071882e+01   \n",
       "50%    5.290000e+02      5.130000e+02            4.073913e+01   \n",
       "75%    8.940000e+02      3.317000e+03            4.075680e+01   \n",
       "max    1.952746e+06      3.918000e+03            4.081830e+01   \n",
       "\n",
       "       start station longitude  end station id  end station latitude  \\\n",
       "count             1.240596e+06    1.240596e+06          1.240596e+06   \n",
       "mean             -7.398175e+01    1.666457e+03          4.073724e+01   \n",
       "std               1.931888e-02    1.495605e+03          2.946039e-02   \n",
       "min              -7.401713e+01    7.200000e+01          4.065540e+01   \n",
       "25%              -7.399456e+01    3.830000e+02          4.071882e+01   \n",
       "50%              -7.398484e+01    5.090000e+02          4.073827e+01   \n",
       "75%              -7.397210e+01    3.317000e+03          4.075641e+01   \n",
       "max              -7.389795e+01    3.918000e+03          4.081830e+01   \n",
       "\n",
       "       end station longitude        bikeid    birth year        gender  \n",
       "count           1.240596e+06  1.240596e+06  1.240596e+06  1.240596e+06  \n",
       "mean           -7.398205e+01  3.267581e+04  1.979777e+03  1.179057e+00  \n",
       "std             1.940547e-02  8.057179e+03  1.242231e+01  4.887083e-01  \n",
       "min            -7.403548e+01  1.453000e+04  1.885000e+03  0.000000e+00  \n",
       "25%            -7.399468e+01  2.854700e+04  1.970000e+03  1.000000e+00  \n",
       "50%            -7.398565e+01  3.390200e+04  1.982000e+03  1.000000e+00  \n",
       "75%            -7.397283e+01  3.974800e+04  1.990000e+03  1.000000e+00  \n",
       "max            -7.389795e+01  4.209100e+04  2.004000e+03  2.000000e+00  "
      ]
     },
     "execution_count": 6,
     "metadata": {},
     "output_type": "execute_result"
    }
   ],
   "source": [
    "df.describe()"
   ]
  },
  {
   "cell_type": "code",
   "execution_count": 7,
   "metadata": {},
   "outputs": [
    {
     "data": {
      "text/plain": [
       "tripduration               0\n",
       "starttime                  0\n",
       "stoptime                   0\n",
       "start station id           0\n",
       "start station name         0\n",
       "start station latitude     0\n",
       "start station longitude    0\n",
       "end station id             0\n",
       "end station name           0\n",
       "end station latitude       0\n",
       "end station longitude      0\n",
       "bikeid                     0\n",
       "usertype                   0\n",
       "birth year                 0\n",
       "gender                     0\n",
       "dtype: int64"
      ]
     },
     "execution_count": 7,
     "metadata": {},
     "output_type": "execute_result"
    }
   ],
   "source": [
    "df.isnull().sum()"
   ]
  },
  {
   "cell_type": "code",
   "execution_count": 8,
   "metadata": {},
   "outputs": [
    {
     "data": {
      "text/plain": [
       "Male      904522\n",
       "Female    279106\n",
       "Other      56968\n",
       "Name: gender, dtype: int64"
      ]
     },
     "execution_count": 8,
     "metadata": {},
     "output_type": "execute_result"
    }
   ],
   "source": [
    "df.gender = df.gender.replace({1 : \"Male\", 2: \"Female\", 0: \"Other\"})\n",
    "df.gender.value_counts()"
   ]
  },
  {
   "cell_type": "code",
   "execution_count": 9,
   "metadata": {},
   "outputs": [
    {
     "data": {
      "text/plain": [
       "<matplotlib.axes._subplots.AxesSubplot at 0x211288dc548>"
      ]
     },
     "execution_count": 9,
     "metadata": {},
     "output_type": "execute_result"
    },
    {
     "data": {
      "image/png": "[encoded data removed]",
      "text/plain": [
       "<Figure size 432x288 with 1 Axes>"
      ]
     },
     "metadata": {
      "needs_background": "light"
     },
     "output_type": "display_data"
    }
   ],
   "source": [
    "color = sb.color_palette()[0]\n",
    "sb.countplot(data = df , x=df.gender, color = color)"
   ]
  },
  {
   "cell_type": "code",
   "execution_count": 10,
   "metadata": {},
   "outputs": [],
   "source": [
    "df.starttime = pd.to_datetime(df.starttime)\n",
    "df.stoptime = pd.to_datetime(df.stoptime)"
   ]
  },
  {
   "cell_type": "code",
   "execution_count": 11,
   "metadata": {},
   "outputs": [],
   "source": [
    "df['starttime_DOW']= df['starttime'].dt.strftime('%a')\n",
    "df['starttime_hour']= df['starttime'].dt.hour"
   ]
  },
  {
   "cell_type": "code",
   "execution_count": 12,
   "metadata": {},
   "outputs": [],
   "source": [
    "# Convert the starttime_DOW to ordinal variables.\n",
    "weekdays = ['Mon','Tue','Wed','Thu','Fri', 'Sat', 'Sun']\n",
    "ordered_weekdays = pd.api.types.CategoricalDtype(ordered = True, categories = weekdays)\n",
    "df['starttime_DOW'] = df['starttime_DOW'].astype(ordered_weekdays)"
   ]
  },
  {
   "cell_type": "code",
   "execution_count": 13,
   "metadata": {},
   "outputs": [],
   "source": [
    "# Calculate member_age from member_birth_year.\n",
    "df['member_age'] = 2020 - df['birth year']\n"
   ]
  },
  {
   "cell_type": "code",
   "execution_count": 14,
   "metadata": {},
   "outputs": [
    {
     "name": "stdout",
     "output_type": "stream",
     "text": [
      "<class 'pandas.core.frame.DataFrame'>\n",
      "RangeIndex: 1240596 entries, 0 to 1240595\n",
      "Data columns (total 18 columns):\n",
      " #   Column                   Non-Null Count    Dtype         \n",
      "---  ------                   --------------    -----         \n",
      " 0   tripduration             1240596 non-null  int64         \n",
      " 1   starttime                1240596 non-null  datetime64[ns]\n",
      " 2   stoptime                 1240596 non-null  datetime64[ns]\n",
      " 3   start station id         1240596 non-null  int64         \n",
      " 4   start station name       1240596 non-null  object        \n",
      " 5   start station latitude   1240596 non-null  float64       \n",
      " 6   start station longitude  1240596 non-null  float64       \n",
      " 7   end station id           1240596 non-null  int64         \n",
      " 8   end station name         1240596 non-null  object        \n",
      " 9   end station latitude     1240596 non-null  float64       \n",
      " 10  end station longitude    1240596 non-null  float64       \n",
      " 11  bikeid                   1240596 non-null  int64         \n",
      " 12  usertype                 1240596 non-null  object        \n",
      " 13  birth year               1240596 non-null  int64         \n",
      " 14  gender                   1240596 non-null  object        \n",
      " 15  starttime_DOW            1240596 non-null  category      \n",
      " 16  starttime_hour           1240596 non-null  int64         \n",
      " 17  member_age               1240596 non-null  int64         \n",
      "dtypes: category(1), datetime64[ns](2), float64(4), int64(7), object(4)\n",
      "memory usage: 162.1+ MB\n"
     ]
    }
   ],
   "source": [
    "df.info()"
   ]
  },
  {
   "cell_type": "markdown",
   "metadata": {},
   "source": [
    "### What is the structure of your dataset?\n",
    "\n",
    "> The dataset has +1M bike rides that happen in 2020 in New York City. The dataset contained features about:\n",
    "\n",
    "Trip Duration (seconds) : how long the trip took in seconds\n",
    "Start Time and Date\n",
    "Stop Time and Date\n",
    "Start Station Name\n",
    "End Station Name\n",
    "Station ID\n",
    "Station Lat/Long\n",
    "Bike ID\n",
    "User Type (Customer = 24-hour pass or 3-day pass user; Subscriber = Annual Member)\n",
    "Gender (Zero=unknown; 1=male; 2=female)\n",
    "Year of Birth\n",
    "\n",
    "starttime_hour \n",
    "starttime_DOW: for weekdays\n",
    "customer_age\n",
    "\n",
    "### What is/are the main feature(s) of interest in your dataset?\n",
    "\n",
    "> I am interested in investigate duration of biking time \n",
    "> And each gender biking more and when .\n",
    "\n",
    "### What features in the dataset do you think will help support your investigation into your feature(s) of interest?\n",
    "\n",
    "> I think the following features may help to support my investigation into the feature (duration) I am interested.\n",
    "\n",
    "start_time - I extracted dayofweek, hours for further investigation.\n",
    "birth_year - we may use member age and investigate the relationship between member age and bike durations.\n",
    "member_gender\n",
    "user_type"
   ]
  },
  {
   "cell_type": "markdown",
   "metadata": {},
   "source": [
    "## Univariate Exploration"
   ]
  },
  {
   "cell_type": "markdown",
   "metadata": {},
   "source": [
    "Let's start with member age"
   ]
  },
  {
   "cell_type": "code",
   "execution_count": 15,
   "metadata": {},
   "outputs": [
    {
     "data": {
      "text/plain": [
       "<matplotlib.axes._subplots.AxesSubplot at 0x21153682c08>"
      ]
     },
     "execution_count": 15,
     "metadata": {},
     "output_type": "execute_result"
    },
    {
     "data": {
      "image/png": "[encoded data removed]",
      "text/plain": [
       "<Figure size 432x288 with 1 Axes>"
      ]
     },
     "metadata": {
      "needs_background": "light"
     },
     "output_type": "display_data"
    }
   ],
   "source": [
    "sb.boxplot(data = df, x = 'member_age')"
   ]
  },
  {
   "cell_type": "code",
   "execution_count": 16,
   "metadata": {},
   "outputs": [
    {
     "data": {
      "text/html": [
       "<div>\n",
       "<style scoped>\n",
       "    .dataframe tbody tr th:only-of-type {\n",
       "        vertical-align: middle;\n",
       "    }\n",
       "\n",
       "    .dataframe tbody tr th {\n",
       "        vertical-align: top;\n",
       "    }\n",
       "\n",
       "    .dataframe thead th {\n",
       "        text-align: right;\n",
       "    }\n",
       "</style>\n",
       "<table border=\"1\" class=\"dataframe\">\n",
       "  <thead>\n",
       "    <tr style=\"text-align: right;\">\n",
       "      <th></th>\n",
       "      <th>tripduration</th>\n",
       "      <th>starttime</th>\n",
       "      <th>stoptime</th>\n",
       "      <th>start station id</th>\n",
       "      <th>start station name</th>\n",
       "      <th>start station latitude</th>\n",
       "      <th>start station longitude</th>\n",
       "      <th>end station id</th>\n",
       "      <th>end station name</th>\n",
       "      <th>end station latitude</th>\n",
       "      <th>end station longitude</th>\n",
       "      <th>bikeid</th>\n",
       "      <th>usertype</th>\n",
       "      <th>birth year</th>\n",
       "      <th>gender</th>\n",
       "      <th>starttime_DOW</th>\n",
       "      <th>starttime_hour</th>\n",
       "      <th>member_age</th>\n",
       "    </tr>\n",
       "  </thead>\n",
       "  <tbody>\n",
       "    <tr>\n",
       "      <th>0</th>\n",
       "      <td>789</td>\n",
       "      <td>2020-01-01 00:00:55.390</td>\n",
       "      <td>2020-01-01 00:14:05.147</td>\n",
       "      <td>504</td>\n",
       "      <td>1 Ave &amp; E 16 St</td>\n",
       "      <td>40.732219</td>\n",
       "      <td>-73.981656</td>\n",
       "      <td>307</td>\n",
       "      <td>Canal St &amp; Rutgers St</td>\n",
       "      <td>40.714275</td>\n",
       "      <td>-73.989900</td>\n",
       "      <td>30326</td>\n",
       "      <td>Subscriber</td>\n",
       "      <td>1992</td>\n",
       "      <td>Male</td>\n",
       "      <td>Wed</td>\n",
       "      <td>0</td>\n",
       "      <td>28</td>\n",
       "    </tr>\n",
       "    <tr>\n",
       "      <th>1</th>\n",
       "      <td>1541</td>\n",
       "      <td>2020-01-01 00:01:08.102</td>\n",
       "      <td>2020-01-01 00:26:49.178</td>\n",
       "      <td>3423</td>\n",
       "      <td>West Drive &amp; Prospect Park West</td>\n",
       "      <td>40.661063</td>\n",
       "      <td>-73.979453</td>\n",
       "      <td>3300</td>\n",
       "      <td>Prospect Park West &amp; 8 St</td>\n",
       "      <td>40.665147</td>\n",
       "      <td>-73.976376</td>\n",
       "      <td>17105</td>\n",
       "      <td>Customer</td>\n",
       "      <td>1969</td>\n",
       "      <td>Male</td>\n",
       "      <td>Wed</td>\n",
       "      <td>0</td>\n",
       "      <td>51</td>\n",
       "    </tr>\n",
       "    <tr>\n",
       "      <th>2</th>\n",
       "      <td>1464</td>\n",
       "      <td>2020-01-01 00:01:42.140</td>\n",
       "      <td>2020-01-01 00:26:07.011</td>\n",
       "      <td>3687</td>\n",
       "      <td>E 33 St &amp; 1 Ave</td>\n",
       "      <td>40.743227</td>\n",
       "      <td>-73.974498</td>\n",
       "      <td>259</td>\n",
       "      <td>South St &amp; Whitehall St</td>\n",
       "      <td>40.701221</td>\n",
       "      <td>-74.012342</td>\n",
       "      <td>40177</td>\n",
       "      <td>Subscriber</td>\n",
       "      <td>1963</td>\n",
       "      <td>Male</td>\n",
       "      <td>Wed</td>\n",
       "      <td>0</td>\n",
       "      <td>57</td>\n",
       "    </tr>\n",
       "    <tr>\n",
       "      <th>3</th>\n",
       "      <td>592</td>\n",
       "      <td>2020-01-01 00:01:45.561</td>\n",
       "      <td>2020-01-01 00:11:38.155</td>\n",
       "      <td>346</td>\n",
       "      <td>Bank St &amp; Hudson St</td>\n",
       "      <td>40.736529</td>\n",
       "      <td>-74.006180</td>\n",
       "      <td>490</td>\n",
       "      <td>8 Ave &amp; W 33 St</td>\n",
       "      <td>40.751551</td>\n",
       "      <td>-73.993934</td>\n",
       "      <td>27690</td>\n",
       "      <td>Subscriber</td>\n",
       "      <td>1980</td>\n",
       "      <td>Male</td>\n",
       "      <td>Wed</td>\n",
       "      <td>0</td>\n",
       "      <td>40</td>\n",
       "    </tr>\n",
       "    <tr>\n",
       "      <th>4</th>\n",
       "      <td>702</td>\n",
       "      <td>2020-01-01 00:01:45.788</td>\n",
       "      <td>2020-01-01 00:13:28.240</td>\n",
       "      <td>372</td>\n",
       "      <td>Franklin Ave &amp; Myrtle Ave</td>\n",
       "      <td>40.694546</td>\n",
       "      <td>-73.958014</td>\n",
       "      <td>3637</td>\n",
       "      <td>Fulton St &amp; Waverly Ave</td>\n",
       "      <td>40.683239</td>\n",
       "      <td>-73.965996</td>\n",
       "      <td>32583</td>\n",
       "      <td>Subscriber</td>\n",
       "      <td>1982</td>\n",
       "      <td>Male</td>\n",
       "      <td>Wed</td>\n",
       "      <td>0</td>\n",
       "      <td>38</td>\n",
       "    </tr>\n",
       "  </tbody>\n",
       "</table>\n",
       "</div>"
      ],
      "text/plain": [
       "   tripduration               starttime                stoptime  \\\n",
       "0           789 2020-01-01 00:00:55.390 2020-01-01 00:14:05.147   \n",
       "1          1541 2020-01-01 00:01:08.102 2020-01-01 00:26:49.178   \n",
       "2          1464 2020-01-01 00:01:42.140 2020-01-01 00:26:07.011   \n",
       "3           592 2020-01-01 00:01:45.561 2020-01-01 00:11:38.155   \n",
       "4           702 2020-01-01 00:01:45.788 2020-01-01 00:13:28.240   \n",
       "\n",
       "   start station id               start station name  start station latitude  \\\n",
       "0               504                  1 Ave & E 16 St               40.732219   \n",
       "1              3423  West Drive & Prospect Park West               40.661063   \n",
       "2              3687                  E 33 St & 1 Ave               40.743227   \n",
       "3               346              Bank St & Hudson St               40.736529   \n",
       "4               372        Franklin Ave & Myrtle Ave               40.694546   \n",
       "\n",
       "   start station longitude  end station id           end station name  \\\n",
       "0               -73.981656             307      Canal St & Rutgers St   \n",
       "1               -73.979453            3300  Prospect Park West & 8 St   \n",
       "2               -73.974498             259    South St & Whitehall St   \n",
       "3               -74.006180             490            8 Ave & W 33 St   \n",
       "4               -73.958014            3637    Fulton St & Waverly Ave   \n",
       "\n",
       "   end station latitude  end station longitude  bikeid    usertype  \\\n",
       "0             40.714275             -73.989900   30326  Subscriber   \n",
       "1             40.665147             -73.976376   17105    Customer   \n",
       "2             40.701221             -74.012342   40177  Subscriber   \n",
       "3             40.751551             -73.993934   27690  Subscriber   \n",
       "4             40.683239             -73.965996   32583  Subscriber   \n",
       "\n",
       "   birth year gender starttime_DOW  starttime_hour  member_age  \n",
       "0        1992   Male           Wed               0          28  \n",
       "1        1969   Male           Wed               0          51  \n",
       "2        1963   Male           Wed               0          57  \n",
       "3        1980   Male           Wed               0          40  \n",
       "4        1982   Male           Wed               0          38  "
      ]
     },
     "execution_count": 16,
     "metadata": {},
     "output_type": "execute_result"
    }
   ],
   "source": [
    "# now delete the outliers \n",
    "df = df[df[\"member_age\"] <= 80]\n",
    "df.head()"
   ]
  },
  {
   "cell_type": "code",
   "execution_count": 17,
   "metadata": {},
   "outputs": [
    {
     "data": {
      "text/plain": [
       "<matplotlib.axes._subplots.AxesSubplot at 0x21128971508>"
      ]
     },
     "execution_count": 17,
     "metadata": {},
     "output_type": "execute_result"
    },
    {
     "data": {
      "image/png": "[encoded data removed]",
      "text/plain": [
       "<Figure size 432x288 with 1 Axes>"
      ]
     },
     "metadata": {
      "needs_background": "light"
     },
     "output_type": "display_data"
    }
   ],
   "source": [
    "sb.boxplot(data = df, x = 'member_age')"
   ]
  },
  {
   "cell_type": "code",
   "execution_count": 18,
   "metadata": {},
   "outputs": [
    {
     "data": {
      "image/png": "[encoded data removed]",
      "text/plain": [
       "<Figure size 432x288 with 1 Axes>"
      ]
     },
     "metadata": {
      "needs_background": "light"
     },
     "output_type": "display_data"
    }
   ],
   "source": [
    "binsize = 2\n",
    "bins = np.arange(18, df['member_age'].max()+binsize, binsize)\n",
    "plt.hist(data = df, x = 'member_age', bins = bins);"
   ]
  },
  {
   "cell_type": "code",
   "execution_count": 19,
   "metadata": {},
   "outputs": [
    {
     "data": {
      "image/png": "[encoded data removed]",
      "text/plain": [
       "<Figure size 432x288 with 1 Axes>"
      ]
     },
     "metadata": {
      "needs_background": "light"
     },
     "output_type": "display_data"
    }
   ],
   "source": [
    "sb.violinplot(data = df, y = 'member_age');"
   ]
  },
  {
   "cell_type": "markdown",
   "metadata": {},
   "source": [
    "it's great for member_age now , There are many bikers are around 30 , 50 age . There are not that many bikers above age 70."
   ]
  },
  {
   "cell_type": "markdown",
   "metadata": {},
   "source": [
    "now let's check trip duration "
   ]
  },
  {
   "cell_type": "code",
   "execution_count": 20,
   "metadata": {},
   "outputs": [
    {
     "name": "stderr",
     "output_type": "stream",
     "text": [
      "C:\\Users\\ecotel\\anaconda3\\lib\\site-packages\\ipykernel_launcher.py:1: SettingWithCopyWarning: \n",
      "A value is trying to be set on a copy of a slice from a DataFrame.\n",
      "Try using .loc[row_indexer,col_indexer] = value instead\n",
      "\n",
      "See the caveats in the documentation: https://pandas.pydata.org/pandas-docs/stable/user_guide/indexing.html#returning-a-view-versus-a-copy\n",
      "  \"\"\"Entry point for launching an IPython kernel.\n"
     ]
    },
    {
     "name": "stdout",
     "output_type": "stream",
     "text": [
      "<class 'pandas.core.frame.DataFrame'>\n",
      "Int64Index: 1238163 entries, 0 to 1240595\n",
      "Data columns (total 19 columns):\n",
      " #   Column                   Non-Null Count    Dtype         \n",
      "---  ------                   --------------    -----         \n",
      " 0   tripduration             1238163 non-null  int64         \n",
      " 1   starttime                1238163 non-null  datetime64[ns]\n",
      " 2   stoptime                 1238163 non-null  datetime64[ns]\n",
      " 3   start station id         1238163 non-null  int64         \n",
      " 4   start station name       1238163 non-null  object        \n",
      " 5   start station latitude   1238163 non-null  float64       \n",
      " 6   start station longitude  1238163 non-null  float64       \n",
      " 7   end station id           1238163 non-null  int64         \n",
      " 8   end station name         1238163 non-null  object        \n",
      " 9   end station latitude     1238163 non-null  float64       \n",
      " 10  end station longitude    1238163 non-null  float64       \n",
      " 11  bikeid                   1238163 non-null  int64         \n",
      " 12  usertype                 1238163 non-null  object        \n",
      " 13  birth year               1238163 non-null  int64         \n",
      " 14  gender                   1238163 non-null  object        \n",
      " 15  starttime_DOW            1238163 non-null  category      \n",
      " 16  starttime_hour           1238163 non-null  int64         \n",
      " 17  member_age               1238163 non-null  int64         \n",
      " 18  duration_min             1238163 non-null  float64       \n",
      "dtypes: category(1), datetime64[ns](2), float64(5), int64(7), object(4)\n",
      "memory usage: 180.7+ MB\n"
     ]
    }
   ],
   "source": [
    "df['duration_min'] = df['tripduration']/60\n",
    "df.info()"
   ]
  },
  {
   "cell_type": "code",
   "execution_count": 21,
   "metadata": {},
   "outputs": [
    {
     "data": {
      "text/html": [
       "<div>\n",
       "<style scoped>\n",
       "    .dataframe tbody tr th:only-of-type {\n",
       "        vertical-align: middle;\n",
       "    }\n",
       "\n",
       "    .dataframe tbody tr th {\n",
       "        vertical-align: top;\n",
       "    }\n",
       "\n",
       "    .dataframe thead th {\n",
       "        text-align: right;\n",
       "    }\n",
       "</style>\n",
       "<table border=\"1\" class=\"dataframe\">\n",
       "  <thead>\n",
       "    <tr style=\"text-align: right;\">\n",
       "      <th></th>\n",
       "      <th>tripduration</th>\n",
       "      <th>starttime</th>\n",
       "      <th>stoptime</th>\n",
       "      <th>start station id</th>\n",
       "      <th>start station name</th>\n",
       "      <th>start station latitude</th>\n",
       "      <th>start station longitude</th>\n",
       "      <th>end station id</th>\n",
       "      <th>end station name</th>\n",
       "      <th>end station latitude</th>\n",
       "      <th>end station longitude</th>\n",
       "      <th>bikeid</th>\n",
       "      <th>usertype</th>\n",
       "      <th>birth year</th>\n",
       "      <th>gender</th>\n",
       "      <th>starttime_DOW</th>\n",
       "      <th>starttime_hour</th>\n",
       "      <th>member_age</th>\n",
       "      <th>duration_min</th>\n",
       "    </tr>\n",
       "  </thead>\n",
       "  <tbody>\n",
       "    <tr>\n",
       "      <th>0</th>\n",
       "      <td>789</td>\n",
       "      <td>2020-01-01 00:00:55.390</td>\n",
       "      <td>2020-01-01 00:14:05.147</td>\n",
       "      <td>504</td>\n",
       "      <td>1 Ave &amp; E 16 St</td>\n",
       "      <td>40.732219</td>\n",
       "      <td>-73.981656</td>\n",
       "      <td>307</td>\n",
       "      <td>Canal St &amp; Rutgers St</td>\n",
       "      <td>40.714275</td>\n",
       "      <td>-73.989900</td>\n",
       "      <td>30326</td>\n",
       "      <td>Subscriber</td>\n",
       "      <td>1992</td>\n",
       "      <td>Male</td>\n",
       "      <td>Wed</td>\n",
       "      <td>0</td>\n",
       "      <td>28</td>\n",
       "      <td>13.150000</td>\n",
       "    </tr>\n",
       "    <tr>\n",
       "      <th>1</th>\n",
       "      <td>1541</td>\n",
       "      <td>2020-01-01 00:01:08.102</td>\n",
       "      <td>2020-01-01 00:26:49.178</td>\n",
       "      <td>3423</td>\n",
       "      <td>West Drive &amp; Prospect Park West</td>\n",
       "      <td>40.661063</td>\n",
       "      <td>-73.979453</td>\n",
       "      <td>3300</td>\n",
       "      <td>Prospect Park West &amp; 8 St</td>\n",
       "      <td>40.665147</td>\n",
       "      <td>-73.976376</td>\n",
       "      <td>17105</td>\n",
       "      <td>Customer</td>\n",
       "      <td>1969</td>\n",
       "      <td>Male</td>\n",
       "      <td>Wed</td>\n",
       "      <td>0</td>\n",
       "      <td>51</td>\n",
       "      <td>25.683333</td>\n",
       "    </tr>\n",
       "    <tr>\n",
       "      <th>2</th>\n",
       "      <td>1464</td>\n",
       "      <td>2020-01-01 00:01:42.140</td>\n",
       "      <td>2020-01-01 00:26:07.011</td>\n",
       "      <td>3687</td>\n",
       "      <td>E 33 St &amp; 1 Ave</td>\n",
       "      <td>40.743227</td>\n",
       "      <td>-73.974498</td>\n",
       "      <td>259</td>\n",
       "      <td>South St &amp; Whitehall St</td>\n",
       "      <td>40.701221</td>\n",
       "      <td>-74.012342</td>\n",
       "      <td>40177</td>\n",
       "      <td>Subscriber</td>\n",
       "      <td>1963</td>\n",
       "      <td>Male</td>\n",
       "      <td>Wed</td>\n",
       "      <td>0</td>\n",
       "      <td>57</td>\n",
       "      <td>24.400000</td>\n",
       "    </tr>\n",
       "    <tr>\n",
       "      <th>3</th>\n",
       "      <td>592</td>\n",
       "      <td>2020-01-01 00:01:45.561</td>\n",
       "      <td>2020-01-01 00:11:38.155</td>\n",
       "      <td>346</td>\n",
       "      <td>Bank St &amp; Hudson St</td>\n",
       "      <td>40.736529</td>\n",
       "      <td>-74.006180</td>\n",
       "      <td>490</td>\n",
       "      <td>8 Ave &amp; W 33 St</td>\n",
       "      <td>40.751551</td>\n",
       "      <td>-73.993934</td>\n",
       "      <td>27690</td>\n",
       "      <td>Subscriber</td>\n",
       "      <td>1980</td>\n",
       "      <td>Male</td>\n",
       "      <td>Wed</td>\n",
       "      <td>0</td>\n",
       "      <td>40</td>\n",
       "      <td>9.866667</td>\n",
       "    </tr>\n",
       "    <tr>\n",
       "      <th>4</th>\n",
       "      <td>702</td>\n",
       "      <td>2020-01-01 00:01:45.788</td>\n",
       "      <td>2020-01-01 00:13:28.240</td>\n",
       "      <td>372</td>\n",
       "      <td>Franklin Ave &amp; Myrtle Ave</td>\n",
       "      <td>40.694546</td>\n",
       "      <td>-73.958014</td>\n",
       "      <td>3637</td>\n",
       "      <td>Fulton St &amp; Waverly Ave</td>\n",
       "      <td>40.683239</td>\n",
       "      <td>-73.965996</td>\n",
       "      <td>32583</td>\n",
       "      <td>Subscriber</td>\n",
       "      <td>1982</td>\n",
       "      <td>Male</td>\n",
       "      <td>Wed</td>\n",
       "      <td>0</td>\n",
       "      <td>38</td>\n",
       "      <td>11.700000</td>\n",
       "    </tr>\n",
       "  </tbody>\n",
       "</table>\n",
       "</div>"
      ],
      "text/plain": [
       "   tripduration               starttime                stoptime  \\\n",
       "0           789 2020-01-01 00:00:55.390 2020-01-01 00:14:05.147   \n",
       "1          1541 2020-01-01 00:01:08.102 2020-01-01 00:26:49.178   \n",
       "2          1464 2020-01-01 00:01:42.140 2020-01-01 00:26:07.011   \n",
       "3           592 2020-01-01 00:01:45.561 2020-01-01 00:11:38.155   \n",
       "4           702 2020-01-01 00:01:45.788 2020-01-01 00:13:28.240   \n",
       "\n",
       "   start station id               start station name  start station latitude  \\\n",
       "0               504                  1 Ave & E 16 St               40.732219   \n",
       "1              3423  West Drive & Prospect Park West               40.661063   \n",
       "2              3687                  E 33 St & 1 Ave               40.743227   \n",
       "3               346              Bank St & Hudson St               40.736529   \n",
       "4               372        Franklin Ave & Myrtle Ave               40.694546   \n",
       "\n",
       "   start station longitude  end station id           end station name  \\\n",
       "0               -73.981656             307      Canal St & Rutgers St   \n",
       "1               -73.979453            3300  Prospect Park West & 8 St   \n",
       "2               -73.974498             259    South St & Whitehall St   \n",
       "3               -74.006180             490            8 Ave & W 33 St   \n",
       "4               -73.958014            3637    Fulton St & Waverly Ave   \n",
       "\n",
       "   end station latitude  end station longitude  bikeid    usertype  \\\n",
       "0             40.714275             -73.989900   30326  Subscriber   \n",
       "1             40.665147             -73.976376   17105    Customer   \n",
       "2             40.701221             -74.012342   40177  Subscriber   \n",
       "3             40.751551             -73.993934   27690  Subscriber   \n",
       "4             40.683239             -73.965996   32583  Subscriber   \n",
       "\n",
       "   birth year gender starttime_DOW  starttime_hour  member_age  duration_min  \n",
       "0        1992   Male           Wed               0          28     13.150000  \n",
       "1        1969   Male           Wed               0          51     25.683333  \n",
       "2        1963   Male           Wed               0          57     24.400000  \n",
       "3        1980   Male           Wed               0          40      9.866667  \n",
       "4        1982   Male           Wed               0          38     11.700000  "
      ]
     },
     "execution_count": 21,
     "metadata": {},
     "output_type": "execute_result"
    }
   ],
   "source": [
    "df.head()"
   ]
  },
  {
   "cell_type": "code",
   "execution_count": 26,
   "metadata": {},
   "outputs": [
    {
     "data": {
      "image/png": "[encoded data removed]",
      "text/plain": [
       "<Figure size 576x360 with 1 Axes>"
      ]
     },
     "metadata": {
      "needs_background": "light"
     },
     "output_type": "display_data"
    }
   ],
   "source": [
    "binsize = 2\n",
    "bins = np.arange(0, df['duration_min'].max(), binsize)\n",
    "\n",
    "plt.figure(figsize=[8, 5])\n",
    "\n",
    "plt.hist(data = df, x = 'duration_min', bins=bins);\n",
    "plt.xlim(0,200)\n",
    "plt.show()"
   ]
  },
  {
   "cell_type": "code",
   "execution_count": 47,
   "metadata": {},
   "outputs": [
    {
     "data": {
      "text/plain": [
       "count    1.240596e+06\n",
       "mean     1.258602e+01\n",
       "std      1.012691e+02\n",
       "min      1.000000e+00\n",
       "25%      5.000000e+00\n",
       "50%      8.000000e+00\n",
       "75%      1.400000e+01\n",
       "max      3.254500e+04\n",
       "Name: duration_min, dtype: float64"
      ]
     },
     "execution_count": 47,
     "metadata": {},
     "output_type": "execute_result"
    }
   ],
   "source": [
    "df['duration_min'].describe()"
   ]
  },
  {
   "cell_type": "code",
   "execution_count": 59,
   "metadata": {},
   "outputs": [
    {
     "data": {
      "image/png": "[encoded data removed]",
      "text/plain": [
       "<Figure size 576x360 with 1 Axes>"
      ]
     },
     "metadata": {
      "needs_background": "light"
     },
     "output_type": "display_data"
    }
   ],
   "source": [
    "log_binsize = 0.025\n",
    "bins = 10 ** np.arange(0, np.log10(df['duration_min'].max())+log_binsize, log_binsize)\n",
    "\n",
    "plt.figure(figsize=[8, 5]);\n",
    "plt.hist(data = df, x = 'duration_min', bins = bins);\n",
    "plt.xscale('log');\n",
    "plt.xticks([1, 2, 5, 10, 20, 50, 100, 200, 500], [1, 2, 5, 10, 20, 50, 100, 200, 500]);\n",
    "plt.xlabel('Duration_min');"
   ]
  },
  {
   "cell_type": "markdown",
   "metadata": {},
   "source": [
    "The distribution now normal. But, there are outliers."
   ]
  },
  {
   "cell_type": "code",
   "execution_count": 62,
   "metadata": {},
   "outputs": [
    {
     "name": "stdout",
     "output_type": "stream",
     "text": [
      "<class 'pandas.core.frame.DataFrame'>\n",
      "Int64Index: 1235856 entries, 0 to 1240595\n",
      "Data columns (total 19 columns):\n",
      " #   Column                   Non-Null Count    Dtype         \n",
      "---  ------                   --------------    -----         \n",
      " 0   tripduration             1235856 non-null  int64         \n",
      " 1   starttime                1235856 non-null  datetime64[ns]\n",
      " 2   stoptime                 1235856 non-null  datetime64[ns]\n",
      " 3   start station id         1235856 non-null  int64         \n",
      " 4   start station name       1235856 non-null  object        \n",
      " 5   start station latitude   1235856 non-null  float64       \n",
      " 6   start station longitude  1235856 non-null  float64       \n",
      " 7   end station id           1235856 non-null  int64         \n",
      " 8   end station name         1235856 non-null  object        \n",
      " 9   end station latitude     1235856 non-null  float64       \n",
      " 10  end station longitude    1235856 non-null  float64       \n",
      " 11  bikeid                   1235856 non-null  int64         \n",
      " 12  usertype                 1235856 non-null  object        \n",
      " 13  birth year               1235856 non-null  int64         \n",
      " 14  gender                   1235856 non-null  object        \n",
      " 15  starttime_DOW            1235856 non-null  category      \n",
      " 16  starttime_hour           1235856 non-null  int64         \n",
      " 17  member_age               1235856 non-null  int64         \n",
      " 18  duration_min             1235856 non-null  float64       \n",
      "dtypes: category(1), datetime64[ns](2), float64(5), int64(7), object(4)\n",
      "memory usage: 180.3+ MB\n"
     ]
    }
   ],
   "source": [
    "df = df[df['duration_min'] <= 100]\n",
    "df.info()"
   ]
  },
  {
   "cell_type": "code",
   "execution_count": 63,
   "metadata": {},
   "outputs": [],
   "source": [
    "# the final data\n",
    "df.to_csv('master_file.csv', index=False)"
   ]
  },
  {
   "cell_type": "code",
   "execution_count": 71,
   "metadata": {},
   "outputs": [
    {
     "data": {
      "image/png": "[encoded data removed]",
      "text/plain": [
       "<Figure size 432x288 with 1 Axes>"
      ]
     },
     "metadata": {
      "needs_background": "light"
     },
     "output_type": "display_data"
    }
   ],
   "source": [
    "color = sb.color_palette()[0]\n",
    "sb.countplot(data = df, x = 'gender', color = color);"
   ]
  },
  {
   "cell_type": "markdown",
   "metadata": {},
   "source": [
    "it's obvious that Male bikers are about 3 times of female bikers."
   ]
  },
  {
   "cell_type": "code",
   "execution_count": 72,
   "metadata": {},
   "outputs": [
    {
     "data": {
      "image/png": "[encoded data removed]",
      "text/plain": [
       "<Figure size 432x288 with 1 Axes>"
      ]
     },
     "metadata": {
      "needs_background": "light"
     },
     "output_type": "display_data"
    }
   ],
   "source": [
    "sb.countplot(data = df, x = 'usertype', color = color);"
   ]
  },
  {
   "cell_type": "markdown",
   "metadata": {},
   "source": [
    "subscribers bikers are much more than customer"
   ]
  },
  {
   "cell_type": "code",
   "execution_count": 73,
   "metadata": {},
   "outputs": [
    {
     "data": {
      "image/png": "[encoded data removed]",
      "text/plain": [
       "<Figure size 432x288 with 1 Axes>"
      ]
     },
     "metadata": {
      "needs_background": "light"
     },
     "output_type": "display_data"
    }
   ],
   "source": [
    "sb.countplot(data = df, x = 'starttime_hour', color = color);"
   ]
  },
  {
   "cell_type": "markdown",
   "metadata": {},
   "source": [
    "the peak hours for biking in 8:00 am and 5:00 pm"
   ]
  },
  {
   "cell_type": "markdown",
   "metadata": {},
   "source": [
    "### Bivariate Exploration\n",
    "\n",
    "> In this section, investigate relationships between pairs of variables in your\n",
    "data. Make sure the variables that you cover here have been introduced in some\n",
    "fashion in the previous section (univariate exploration)."
   ]
  },
  {
   "cell_type": "code",
   "execution_count": 114,
   "metadata": {},
   "outputs": [
    {
     "data": {
      "text/plain": [
       "<Figure size 1440x1440 with 0 Axes>"
      ]
     },
     "metadata": {},
     "output_type": "display_data"
    },
    {
     "data": {
      "image/png": "[encoded data removed]",
      "text/plain": [
       "<Figure size 1296x432 with 8 Axes>"
      ]
     },
     "metadata": {
      "needs_background": "light"
     },
     "output_type": "display_data"
    }
   ],
   "source": [
    "categoric_vars = ['starttime_DOW', 'starttime_hour', 'gender', 'usertype']\n",
    "samples = np.random.choice(df.shape[0], 2000, replace = False);\n",
    "# samp = df.loc[samples]\n",
    "\n",
    "def boxgrid(x, y, **kwargs):\n",
    "    \n",
    "    default_color = sb.color_palette()[0];\n",
    "    sb.boxplot(x, y, color = default_color);\n",
    "    \n",
    "\n",
    "plt.figure(figsize = [20, 20]);\n",
    "g = sb.PairGrid(data = df, y_vars = ['duration_min', 'member_age'], x_vars = categoric_vars, height = 3, aspect = 1.5);\n",
    "g.map(boxgrid);\n",
    "\n",
    "plt.show()"
   ]
  },
  {
   "cell_type": "markdown",
   "metadata": {},
   "source": [
    "> data from above plots :\n",
    "- Biker ride on weekends [Saturday and Sunday] longer durations compared to other weekdays.\n",
    "- Bikers rides start between 11:00 AM to 2:00 PM have the longest mean durations compared to other time frames.\n",
    "- Female bikers bike longer on average compared to male bikers.\n",
    "- Bikers with user_type 'Customer' bikes longer on average compared to 'Subscriber' bikers .\n",
    "- The mean age of bikers on weekends [Saturday and Sunday] is lower than mean age of bikers on other days.\n",
    "- The mean age of bikers who start 4:00 AM and 7:00 AM is higher compared to other times in the day\n",
    "- The mean age of male bikers is higher than the mean age of female bikers.\n",
    "- The mean age of bikers who have 'Subscriber' type is higher than the mean age of bikers who have 'Customer' type. "
   ]
  },
  {
   "cell_type": "code",
   "execution_count": 105,
   "metadata": {},
   "outputs": [
    {
     "data": {
      "image/png": "[encoded data removed]",
      "text/plain": [
       "<Figure size 1440x1440 with 3 Axes>"
      ]
     },
     "metadata": {
      "needs_background": "light"
     },
     "output_type": "display_data"
    }
   ],
   "source": [
    "# plot some distribution for starttime_hour\n",
    "\n",
    "plt.figure(figsize = [20, 20]);\n",
    "\n",
    "plt.subplot(3, 1, 1);\n",
    "sb.countplot(data = df, x = 'starttime_hour', hue = 'starttime_DOW', palette = 'Blues');\n",
    "\n",
    "ax = plt.subplot(3, 1, 2);\n",
    "sb.countplot(data = df, x = 'starttime_hour', hue = 'gender', palette = 'Blues');\n",
    "\n",
    "ax = plt.subplot(3, 1, 3);\n",
    "sb.countplot(data = df, x = 'starttime_hour', hue = 'usertype', palette = 'Blues');"
   ]
  },
  {
   "cell_type": "markdown",
   "metadata": {},
   "source": [
    "> data from above plots:\n",
    "- Thursday , 8:00 AM has the highest biker counts across All The Week\n",
    "- 5:00 PM has the most male bikers compared to other hours. 8:00 AM and 5:00 PM have more female bikers compared to other hours.\n",
    "- 5:00 PM has the most 'Subscriber' bikers compared to other hours. 3:00 pm has the most 'Customer' bikers compared to other hours."
   ]
  },
  {
   "cell_type": "code",
   "execution_count": 106,
   "metadata": {},
   "outputs": [
    {
     "data": {
      "image/png": "[encoded data removed]",
      "text/plain": [
       "<Figure size 720x720 with 2 Axes>"
      ]
     },
     "metadata": {
      "needs_background": "light"
     },
     "output_type": "display_data"
    }
   ],
   "source": [
    "# plot some distribution for starttime_DOW\n",
    "\n",
    "plt.figure(figsize = [10, 10]);\n",
    "\n",
    "ax = plt.subplot(2, 1, 1);\n",
    "\n",
    "sb.countplot(data = df, x = 'starttime_DOW', hue = 'gender', palette = 'Greens');\n",
    "\n",
    "ax = plt.subplot(2, 1, 2);\n",
    "sb.countplot(data = df, x = 'starttime_DOW', hue = 'usertype', palette = 'Greens');\n",
    "\n",
    "plt.show()"
   ]
  },
  {
   "cell_type": "markdown",
   "metadata": {},
   "source": [
    "> data from above plots:\n",
    "    \n",
    "- Thursday has the most male bikers compared to other days. when thursday and Friday have the most female bikers compared to other days.\n",
    "- Tuesday has the most 'Subscriber' bikers compared to other days. Sunday has the most 'Customer' bikers compared to other days."
   ]
  },
  {
   "cell_type": "code",
   "execution_count": 101,
   "metadata": {},
   "outputs": [
    {
     "data": {
      "image/png": "[encoded data removed]",
      "text/plain": [
       "<Figure size 720x576 with 1 Axes>"
      ]
     },
     "metadata": {
      "needs_background": "light"
     },
     "output_type": "display_data"
    }
   ],
   "source": [
    "plt.figure(figsize = [10, 8]);\n",
    "\n",
    "sb.countplot(data = df, x = 'gender', hue = 'usertype', palette = 'spring')\n",
    "plt.show()"
   ]
  },
  {
   "cell_type": "markdown",
   "metadata": {},
   "source": [
    "most 'subscribers' form male and most 'customers' males too"
   ]
  },
  {
   "cell_type": "code",
   "execution_count": null,
   "metadata": {},
   "outputs": [],
   "source": []
  },
  {
   "cell_type": "markdown",
   "metadata": {},
   "source": [
    "### Talk about some of the relationships you observed in this part of the investigation. How did the feature(s) of interest vary with other features in the dataset?\n",
    "\n",
    "> Bikers rides on Saturday and Sunday have longer durations compared to bike rides on other weekdays.\n",
    "> Bike rides start between 11:00 AM to 2:00 PM have the longest mean durations compared to other time frames.\n",
    "> Female bikers bike longer on average compared to male bikers.\n",
    "> Bikers with user_type 'Customer' bikes longer on average compared to bikers with user_type 'Subscriber'.\n",
    "> The mean bike duration for female biker is longer than the the mean duration of the male bikers.\n",
    "> The mean bike duration for 'Customer' biker is longer than the the mean duration of the 'Subscriber' bikers\n",
    "\n",
    "### Did you observe any interesting relationships between the other features (not the main feature(s) of interest)?\n",
    "\n",
    "> The mean age of bikers on Tuesday and Wednesday are higher than the mean age of bikers on other days.\n",
    "> The mean age of bikers on Sunday is lower than the mean age of bikers on other days.\n",
    "> The mean age of bikers who start between 6:00 AM to 7:00 AM is higher compared to the mean age of bikers who start at other time frames.\n",
    "> The mean age of male bikers is higher than the mean age of female bikers.\n",
    "> The mean age of bikers who are belong to 'Subscriber' type is higher than the mean age of bikers who are belong to 'Customer' type.\n",
    "> Tuesday, 5:00 PM has the highest biker counts across 7 days, 24 hours.\n",
    "> 5:00 PM has the most male bikers compared to other hours. 8:00 AM and 5:00 PM have more female bikers compared to other hours.\n",
    "> 5:00 PM has the most 'Subscriber' bikers compared to other hours. It also has the most 'Customer' bikers compared to other hours.\n",
    "> Tuesday has the most male bikers compared to other days. It also has the most female bikers compared to other days.\n",
    "> Tuesday has the most 'Subscriber' bikers compared to other days. Saturday has the most 'Customer' bikers compared to other days.\n",
    "> Most 'Subscriber' are male. Most 'Customer' bikers are also male"
   ]
  },
  {
   "cell_type": "markdown",
   "metadata": {},
   "source": [
    "## Multivariate Exploration\n"
   ]
  },
  {
   "cell_type": "code",
   "execution_count": 120,
   "metadata": {},
   "outputs": [],
   "source": [
    "def log_trans(x, inverse = False):\n",
    "    \"\"\" quick function for computing log and power operations \"\"\"\n",
    "    if not inverse:\n",
    "        return np.log10(x)\n",
    "    else:\n",
    "        return np.power(10, x)"
   ]
  },
  {
   "cell_type": "code",
   "execution_count": 121,
   "metadata": {},
   "outputs": [],
   "source": [
    "def hist2dgrid(x, y, **kwargs):\n",
    "    palette = kwargs.pop('color');\n",
    "    bins_x = np.arange(18, df['member_age'].max()+2, 2);\n",
    "    bins_y = np.arange(0, 2, 0.1);\n",
    "    plt.hist2d(x, y, bins = [bins_x, bins_y], cmap = palette, cmin = 0.5);\n",
    "    plt.yticks(log_trans(np.array([1, 2, 5, 10, 20, 50, 100])),\n",
    "               [1, 2, 5, 10, 20, 50, 100]);"
   ]
  },
  {
   "cell_type": "code",
   "execution_count": 123,
   "metadata": {},
   "outputs": [
    {
     "data": {
      "image/png": "[encoded data removed]",
      "text/plain": [
       "<Figure size 648x648 with 7 Axes>"
      ]
     },
     "metadata": {
      "needs_background": "light"
     },
     "output_type": "display_data"
    }
   ],
   "source": [
    "df['log_duration_min'] = df['duration_min'].apply(log_trans)\n",
    "# create faceted heat maps on levels of the cut variable\n",
    "g = sb.FacetGrid(data = df, col = 'starttime_DOW', col_wrap = 3, height = 3);\n",
    "g.map(hist2dgrid, 'member_age', 'log_duration_min', color = 'inferno_r');\n",
    "g.set_xlabels('Member Age');\n",
    "g.set_ylabels('Duration (min)');"
   ]
  },
  {
   "cell_type": "markdown",
   "metadata": {},
   "source": [
    "Bike rides on weekends [Saturday and Sunday] longer durations compared to bike rides on other weekdays."
   ]
  },
  {
   "cell_type": "code",
   "execution_count": null,
   "metadata": {},
   "outputs": [],
   "source": []
  },
  {
   "cell_type": "markdown",
   "metadata": {},
   "source": [
    "### Talk about some of the relationships you observed in this part of the investigation. Were there features that strengthened each other in terms of looking at your feature(s) of interest?\n",
    "\n",
    "> The features we investigated here are pretty much indenpendant from each other. We did not observed features that strengthened each other in terms of looking at features to my interest\n",
    "\n",
    "### Were there any interesting or surprising interactions between features?\n",
    "\n",
    "> Bike rides on Saturday and Sunday have longer durations compared to bike rides on other weekdays.\n",
    "> Bikers rides start between 11:00 AM to 2:00 PM have the longest mean durations compared to other time frames.\n",
    "> Female bikers bike longer on average compared to male bikers.\n",
    "> 'Customer' bikers bike longer on average compared to 'Subscriber' bikers.\n",
    "> The bikers are the least in 3:00 AM and 4:00 AM."
   ]
  },
  {
   "cell_type": "markdown",
   "metadata": {},
   "source": []
  },
  {
   "cell_type": "code",
   "execution_count": null,
   "metadata": {},
   "outputs": [],
   "source": []
  }
 ],
 "metadata": {
  "kernelspec": {
   "display_name": "Python 3",
   "language": "python",
   "name": "python3"
  },
  "language_info": {
   "codemirror_mode": {
    "name": "ipython",
    "version": 3
   },
   "file_extension": ".py",
   "mimetype": "text/x-python",
   "name": "python",
   "nbconvert_exporter": "python",
   "pygments_lexer": "ipython3",
   "version": "3.7.6"
  }
 },
 "nbformat": 4,
 "nbformat_minor": 2
}
